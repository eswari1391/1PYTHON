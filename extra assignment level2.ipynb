{
 "cells": [
  {
   "cell_type": "code",
   "execution_count": 1,
   "id": "97f082b8-8e3c-48f4-95ae-d25b171a4d32",
   "metadata": {},
   "outputs": [
    {
     "name": "stdout",
     "output_type": "stream",
     "text": [
      "0\n",
      "1\n",
      "2\n",
      "3\n",
      "4\n",
      "5\n",
      "6\n",
      "7\n",
      "8\n",
      "9\n",
      "10\n",
      "11\n",
      "12\n",
      "13\n",
      "14\n",
      "15\n",
      "16\n",
      "17\n",
      "18\n",
      "19\n"
     ]
    }
   ],
   "source": [
    "for num in range(0,20):\n",
    "    print(num)\n",
    "    "
   ]
  },
  {
   "cell_type": "code",
   "execution_count": 2,
   "id": "1fe3c573-de09-4ed8-b384-661430f21ebb",
   "metadata": {},
   "outputs": [
    {
     "name": "stdout",
     "output_type": "stream",
     "text": [
      "10\n",
      "11\n",
      "12\n",
      "13\n",
      "14\n",
      "15\n",
      "16\n",
      "17\n",
      "18\n",
      "19\n"
     ]
    }
   ],
   "source": [
    "for num in range(10,20,):\n",
    "    print(num)"
   ]
  },
  {
   "cell_type": "code",
   "execution_count": 3,
   "id": "3fce9a18-0b26-4cfb-aace-6cc492beb8a0",
   "metadata": {},
   "outputs": [
    {
     "name": "stdout",
     "output_type": "stream",
     "text": [
      "[10, 20, 55, 84, 74, 65, 14]\n",
      "number of item in the lists: 7\n"
     ]
    }
   ],
   "source": [
    "list=[10,20,55,84,74,65,14]\n",
    "print(list)\n",
    "print(\"number of item in the lists:\",len(list))    \n",
    "    "
   ]
  },
  {
   "cell_type": "code",
   "execution_count": 4,
   "id": "c9328d1d-e1ae-46f2-b88f-4de1753196b6",
   "metadata": {},
   "outputs": [
    {
     "name": "stdout",
     "output_type": "stream",
     "text": [
      "[10, 20, 55, 84, 74, 65, 14]\n",
      "number of item in the list1:\n"
     ]
    }
   ],
   "source": [
    "list1 = [10, 20, 55, 84, 74, 65, 14]\n",
    "print(list1)\n",
    "print(\"number of item in the list1:\")\n",
    "\n"
   ]
  },
  {
   "cell_type": "code",
   "execution_count": 5,
   "id": "64b26dc0-0318-4cc4-bd8b-97007451b722",
   "metadata": {},
   "outputs": [
    {
     "name": "stdout",
     "output_type": "stream",
     "text": [
      "[10, 20, 55, 84, 74, 65, 14]\n"
     ]
    }
   ],
   "source": [
    "print(list1)"
   ]
  },
  {
   "cell_type": "code",
   "execution_count": 6,
   "id": "a3430ce4-c06a-4cff-8261-97112aa7a5d5",
   "metadata": {},
   "outputs": [
    {
     "name": "stdout",
     "output_type": "stream",
     "text": [
      "10\n",
      "20\n",
      "55\n",
      "84\n",
      "74\n",
      "65\n",
      "14\n"
     ]
    }
   ],
   "source": [
    "\n",
    "for item in list1:\n",
    "    print(item)\n"
   ]
  },
  {
   "cell_type": "code",
   "execution_count": 7,
   "id": "e9796a15-6462-497a-aa02-6c2390c17725",
   "metadata": {},
   "outputs": [
    {
     "name": "stdout",
     "output_type": "stream",
     "text": [
      "[10, 11, 12]\n"
     ]
    }
   ],
   "source": [
    "numbers = []\n",
    "\n",
    "# Loop through the range and add each number to the list\n",
    "for num in range(10, 13):  # range(10, 13) will give 10, 11, 12\n",
    "    numbers.append(num)\n",
    "\n",
    "# Print the list\n",
    "print(numbers)\n"
   ]
  },
  {
   "cell_type": "code",
   "execution_count": 8,
   "id": "063515c1-539f-45cd-ab86-4c7d510c3da6",
   "metadata": {},
   "outputs": [
    {
     "name": "stdout",
     "output_type": "stream",
     "text": [
      "[9, 10, 11, 12]\n"
     ]
    }
   ],
   "source": [
    "numbers = []\n",
    "\n",
    "\n",
    "for num in range(9, 13):\n",
    "    numbers.append(num)\n",
    "\n",
    "\n",
    "print(numbers)\n"
   ]
  },
  {
   "cell_type": "code",
   "execution_count": 9,
   "id": "fe5c864d-d419-4ad0-ab51-55d27c94bdf3",
   "metadata": {},
   "outputs": [
    {
     "name": "stdin",
     "output_type": "stream",
     "text": [
      "Enter your name: sinthu\n"
     ]
    },
    {
     "name": "stdout",
     "output_type": "stream",
     "text": [
      "s\n",
      "i\n",
      "n\n",
      "t\n",
      "h\n",
      "u\n"
     ]
    }
   ],
   "source": [
    "name=input(\"Enter your name:\")\n",
    "for temp in name:\n",
    "    print(temp)"
   ]
  },
  {
   "cell_type": "code",
   "execution_count": 10,
   "id": "125b9b0f-c8c0-42c4-8fbc-1efc2913ee2c",
   "metadata": {},
   "outputs": [
    {
     "name": "stdin",
     "output_type": "stream",
     "text": [
      "-YOUR NAME- sinthu\n",
      "-YOUR AGE- 33\n",
      "-PROFESSION- trader\n"
     ]
    }
   ],
   "source": [
    "Name=input(\"-YOUR NAME-\")\n",
    "Name=int(input(\"-YOUR AGE-\"))\n",
    "Name=input(\"-PROFESSION-\")\n",
    "\n",
    "\n",
    "\n",
    "        "
   ]
  },
  {
   "cell_type": "code",
   "execution_count": 11,
   "id": "75fa4897-b06c-47c3-be62-5a8cf64ce51f",
   "metadata": {},
   "outputs": [
    {
     "name": "stdout",
     "output_type": "stream",
     "text": [
      "(1, 'welcom', 2, 'hope')\n"
     ]
    }
   ],
   "source": [
    "name=(1,'welcom',2,'hope')\n",
    "print(name)"
   ]
  },
  {
   "cell_type": "code",
   "execution_count": 12,
   "id": "b0151044-6e8b-44f6-8383-ed457b5f6eb6",
   "metadata": {},
   "outputs": [
    {
     "name": "stdout",
     "output_type": "stream",
     "text": [
      "((0, 1, 2, 3), ('python', 'hope'))\n"
     ]
    }
   ],
   "source": [
    "num=((0,1,2,3),('python','hope'))\n",
    "print(num)"
   ]
  },
  {
   "cell_type": "code",
   "execution_count": 17,
   "id": "9e9bc3cd-62fb-4be9-bf83-4bd131fd1102",
   "metadata": {},
   "outputs": [
    {
     "name": "stdout",
     "output_type": "stream",
     "text": [
      "(20, 10, 16, 19, 25, 1, 276, 188)\n",
      "is ODD 19\n",
      "is ODD 25\n",
      "is ODD 1\n"
     ]
    }
   ],
   "source": [
    "int=(20,10,16,19,25,1,276,188)\n",
    "print(int)\n",
    "list=[20,10,16,19,25,1,276,188]\n",
    "for num in list:\n",
    "    if((num%2)==1):\n",
    "        print(\"is ODD\",num)\n",
    "        \n",
    "        \n",
    "\n",
    "\n",
    "\n",
    "\n",
    "\n",
    "\n",
    "\n",
    "\n",
    "\n",
    "\n",
    "\n",
    "\n",
    "\n",
    "\n",
    "\n",
    "\n",
    "\n",
    "\n",
    "\n",
    "\n"
   ]
  },
  {
   "cell_type": "code",
   "execution_count": 18,
   "id": "ef5f4b78-d9d7-42c5-a487-29a4014c38bd",
   "metadata": {},
   "outputs": [
    {
     "name": "stdout",
     "output_type": "stream",
     "text": [
      "is EVEN 20\n",
      "is EVEN 10\n",
      "is EVEN 16\n",
      "is EVEN 276\n",
      "is EVEN 188\n"
     ]
    }
   ],
   "source": [
    "list=[20,10,16,19,25,1,276,188]\n",
    "for num in list:\n",
    "    if((num%2)==0):\n",
    "        print(\"is EVEN\",num)\n"
   ]
  },
  {
   "cell_type": "code",
   "execution_count": null,
   "id": "1549d569-505c-4798-939d-719788274f62",
   "metadata": {},
   "outputs": [],
   "source": []
  }
 ],
 "metadata": {
  "kernelspec": {
   "display_name": "Python 3 (ipykernel)",
   "language": "python",
   "name": "python3"
  },
  "language_info": {
   "codemirror_mode": {
    "name": "ipython",
    "version": 3
   },
   "file_extension": ".py",
   "mimetype": "text/x-python",
   "name": "python",
   "nbconvert_exporter": "python",
   "pygments_lexer": "ipython3",
   "version": "3.12.4"
  }
 },
 "nbformat": 4,
 "nbformat_minor": 5
}
